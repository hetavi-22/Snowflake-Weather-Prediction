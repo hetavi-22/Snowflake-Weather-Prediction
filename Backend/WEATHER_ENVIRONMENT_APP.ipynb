{
 "metadata": {
  "kernelspec": {
   "display_name": "Streamlit Notebook",
   "name": "streamlit"
  },
  "lastEditStatus": {
   "notebookId": "qznsexiskelgcsiffz7c",
   "authorId": "8653530395317",
   "authorName": "HMEHTA27",
   "authorEmail": "hmehta27@asu.edu",
   "sessionId": "735cebd1-37c6-492f-b82b-cfb03542c6e6",
   "lastEditTime": 1749576193383
  }
 },
 "nbformat_minor": 5,
 "nbformat": 4,
 "cells": [
  {
   "cell_type": "markdown",
   "id": "cd93cf1e-16e1-47ad-a2d3-96b83799521d",
   "metadata": {
    "name": "title",
    "collapsed": false
   },
   "source": "## [Quickstart: Build a Data Application with Snowflake Marketplace, Snowflake Notebooks, and Streamlit in Snowflake](https://quickstarts.snowflake.com/guide/data_apps_summit_lab/)"
  },
  {
   "cell_type": "code",
   "id": "f703ef83-bf84-4722-85b8-40eba94143d7",
   "metadata": {
    "language": "sql",
    "name": "set_context"
   },
   "outputs": [],
   "source": "USE ROLE accountadmin;\nUSE WAREHOUSE compute_wh;\nUSE DATABASE weather_lab;\nUSE SCHEMA weather_schema;",
   "execution_count": null
  },
  {
   "cell_type": "code",
   "id": "f791c4f6-6771-4cba-a21a-02d0aee56979",
   "metadata": {
    "language": "sql",
    "name": "know_data"
   },
   "outputs": [],
   "source": "-- Explore what weather variables are available\nSELECT DISTINCT variable_name\nFROM WEATHER__ENVIRONMENT.CYBERSYN.NOAA_WEATHER_METRICS_TIMESERIES\nLIMIT 20;",
   "execution_count": null
  },
  {
   "cell_type": "code",
   "id": "1f6aa7ac-01ba-48da-b7f8-34799e14c078",
   "metadata": {
    "language": "sql",
    "name": "avg_temperature_sql"
   },
   "outputs": [],
   "source": "-- Average temperature by state, in Celsius\nSELECT \n    idx.state_name,\n    AVG(ts.value) as avg_temperature\nFROM WEATHER__ENVIRONMENT.CYBERSYN.NOAA_WEATHER_METRICS_TIMESERIES ts\nJOIN WEATHER__ENVIRONMENT.CYBERSYN.NOAA_WEATHER_STATION_INDEX idx \n    ON ts.noaa_weather_station_id = idx.noaa_weather_station_id\nWHERE ts.variable_name = 'Average Temperature'\n    AND ts.date >= '2020-01-01'\n    AND idx.country_geo_id = 'country/USA'\nGROUP BY idx.state_name\nORDER BY avg_temperature DESC;",
   "execution_count": null
  },
  {
   "cell_type": "code",
   "id": "260c51df-69ed-470a-9e6d-f0bf09b9080c",
   "metadata": {
    "language": "sql",
    "name": "az_zipcode_temps"
   },
   "outputs": [],
   "source": "-- Sample temperature data for zip codes for weather stations in California\nSELECT \n    ts.date,\n    ts.value as temperature,\n    idx.noaa_weather_station_name,\n    idx.zip_name,\n    idx.state_name\nFROM WEATHER__ENVIRONMENT.CYBERSYN.NOAA_WEATHER_METRICS_TIMESERIES ts\nJOIN WEATHER__ENVIRONMENT.CYBERSYN.NOAA_WEATHER_STATION_INDEX idx \n    ON ts.noaa_weather_station_id = idx.noaa_weather_station_id\nWHERE ts.variable_name = 'Average Temperature'\n    AND idx.state_name = 'Arizona'\n    AND ts.date >= '2023-01-01'\n    AND idx.zip_name IS NOT NULL\nORDER BY ts.date DESC;",
   "execution_count": null
  },
  {
   "cell_type": "code",
   "id": "21203f88-54a4-4200-be8b-be41b305b859",
   "metadata": {
    "language": "python",
    "name": "az_zipcode_temps_py"
   },
   "outputs": [],
   "source": "from snowflake.snowpark import Session\nfrom snowflake.snowpark.types import IntegerType, FloatType, StringType\nfrom snowflake.snowpark.functions import avg, sum, col, udf, call_udf, call_builtin, year, month, dayofyear\nimport pandas as pd\nfrom datetime import date\nimport numpy as np\n\n# scikit-learn for training ML models, used later in notebook\nfrom sklearn.linear_model import LinearRegression\nfrom sklearn.metrics import mean_squared_error, r2_score\n\nsession = Session.builder.getOrCreate()\n\n# Snowpark DataFrame equivalent to previous SQL query\nts = session.table(\"WEATHER__ENVIRONMENT.CYBERSYN.NOAA_WEATHER_METRICS_TIMESERIES\")\nidx = session.table(\"WEATHER__ENVIRONMENT.CYBERSYN.NOAA_WEATHER_STATION_INDEX\")\n\nsample_weather_df = (\n    ts.join(idx, ts.col(\"NOAA_WEATHER_STATION_ID\") == idx.col(\"NOAA_WEATHER_STATION_ID\"))\n    .filter(ts.col('VARIABLE_NAME') == 'Average Temperature')\n    .filter(idx.col('STATE_NAME') == 'Arizona')\n    .filter(ts.col('DATE') >= '2023-01-01')\n    .filter(idx.col('ZIP_NAME').isNotNull())\n    .select(\n        ts.col('DATE'),\n        ts.col('VALUE').alias('TEMPERATURE'),\n        idx.col('NOAA_WEATHER_STATION_NAME'),\n        idx.col('ZIP_NAME'),\n        idx.col('STATE_NAME')\n    )\n    .orderBy(ts.col('DATE').desc())\n    .limit(100)\n)\n\nsample_weather_df.show(20)",
   "execution_count": null
  },
  {
   "cell_type": "code",
   "id": "104a4ad0-a32d-4419-810d-6370212d2bf2",
   "metadata": {
    "language": "python",
    "name": "feature_eng"
   },
   "outputs": [],
   "source": "# Create Snowpark DataFrame for temperature data\n# Temps in Celsius\nprint(\"Creating Snowpark DataFrame...\")\n\nts = session.table(\"WEATHER__ENVIRONMENT.CYBERSYN.NOAA_WEATHER_METRICS_TIMESERIES\")\nidx = session.table(\"WEATHER__ENVIRONMENT.CYBERSYN.NOAA_WEATHER_STATION_INDEX\")\n\n# Create weather dataframe\nweather_df = (\n    ts.join(idx, ts.col(\"NOAA_WEATHER_STATION_ID\") == idx.col(\"NOAA_WEATHER_STATION_ID\"))\n    .filter(ts.col('VARIABLE_NAME') == 'Average Temperature')\n    .filter(idx.col('COUNTRY_GEO_ID') == 'country/USA')\n    .filter(ts.col('DATE') >= '2000-01-01')\n    .filter(idx.col('STATE_NAME').isNotNull())\n    .select(\n        ts.col('DATE'),\n        ts.col('VALUE').alias('TEMPERATURE'),\n        idx.col('STATE_NAME'),\n        call_builtin('YEAR', ts.col('DATE')).alias('YEAR'),\n        call_builtin('MONTH', ts.col('DATE')).alias('MONTH')\n    )\n    .orderBy(ts.col('DATE'))\n)\n\nprint(\"Sample of weather DataFrame:\")\nweather_df.limit(10).show()\n\nprint(f\"Total records in weather DataFrame: {weather_df.count()}\")\n\n# Create monthly averages by state for model training\nprint(\"Creating features for ML training...\")\n\nmonthly_temp_df = (\n    weather_df\n    .groupBy(col('STATE_NAME'), col('YEAR'), col('MONTH'))\n    .agg(avg(col('TEMPERATURE')).alias('AVG_TEMP'))\n    .orderBy(col('STATE_NAME'), col('YEAR'), col('MONTH'))\n)\n\nprint(\"Monthly temperature averages by state:\")\nmonthly_temp_df.limit(10).show()\n\n# Focus on Arizona data for our location-specific models\nprint(\"Preparing Arizona data for location-specific training...\")\n\naz_weather_pd = (\n    monthly_temp_df\n    .filter(col('STATE_NAME') == 'Arizona')\n    .filter(col('YEAR') >= 2000)\n    .select(col('YEAR'), col('MONTH'), col('AVG_TEMP'))\n    .orderBy(col('YEAR'), col('MONTH'))\n    .to_pandas()\n)\n\nprint(f\"Arizona temperature data shape: {ca_weather_pd.shape}\")\n\nprint(\"\\nSample data:\")\nprint(az_weather_pd.head())",
   "execution_count": null
  },
  {
   "cell_type": "code",
   "id": "6c6a9429-2624-44c3-997a-9cfc110f280a",
   "metadata": {
    "language": "python",
    "name": "train_model"
   },
   "outputs": [],
   "source": "# Train model for 90210\nprint(\"Training weather model for zip code 86005...\")\n\n# Target zip code\ntarget_zips = {\n  '86005': 'FLAGSTAFF ARIZONA'\n}\n\n# Function to calculate approx. distance from coast\ndef distance_from_coast(latitude, longitude):\n    \"\"\"\n    Approximate distance from Pacific coast to any point in Arizona.\n    Uses a simplified model based on longitude and a fixed coastal reference.\n    \"\"\"\n\n    # Use Pacific Coast reference near San Diego\n    coast_lon = -117.25\n\n    # Use different miles-per-degree based on latitude (optional for more accuracy)\n    if latitude > 35:\n        miles_per_deg = 53.3  # Northern AZ\n    elif latitude > 33:\n        miles_per_deg = 53.0  # Central AZ\n    else:\n        miles_per_deg = 52.7  # Southern AZ\n\n    # Compute distance\n    distance = abs(longitude - coast_lon) * miles_per_deg\n\n    return distance\n\n# Prepare training data for zip code\nmodels = {}\nzip_data = {}\n\nfor zip_code, description in target_zips.items():\n  \n  # Retrieve >20 years of data for this specific zip code\n  zip_query = f\"\"\"\n  SELECT \n      ts.date,\n      ts.value as temperature,\n      idx.latitude,\n      idx.longitude, \n      idx.elevation,\n      EXTRACT(MONTH FROM ts.date) as month,\n      EXTRACT(YEAR FROM ts.date) as year\n  FROM WEATHER__ENVIRONMENT.CYBERSYN.NOAA_WEATHER_METRICS_TIMESERIES ts\n  JOIN WEATHER__ENVIRONMENT.CYBERSYN.NOAA_WEATHER_STATION_INDEX idx \n      ON ts.noaa_weather_station_id = idx.noaa_weather_station_id\n  WHERE ts.variable_name = 'Average Temperature'\n      AND idx.zip_name = '{zip_code}'\n      AND ts.date >= '2000-01-01'\n      AND ts.date < '2025-01-01'\n      AND ts.value IS NOT NULL\n  ORDER BY ts.date\n  \"\"\"\n  \n  # Get the data\n  zip_weather_df = session.sql(zip_query).to_pandas()\n  \n  if not zip_weather_df.empty:\n      print(f\"Found {len(zip_weather_df)} records from {zip_weather_df['YEAR'].min()}-{zip_weather_df['YEAR'].max()}\")\n      \n      # Calculate additional geographic features\n      if len(zip_weather_df) > 0:\n          lat = zip_weather_df['LATITUDE'].iloc[0]\n          lon = zip_weather_df['LONGITUDE'].iloc[0]\n          elev = zip_weather_df['ELEVATION'].iloc[0]\n          \n          \n          # Calculate distance from coast\n          coast_distance = distance_from_coast(lat, lon)\n          \n          # Prepare features for training\n          # Create monthly averages with geographic features\n          monthly_data = (\n              zip_weather_df.groupby(['YEAR', 'MONTH'])\n              .agg({\n                  'TEMPERATURE': 'mean',\n                  'LATITUDE': 'first',\n                  'LONGITUDE': 'first', \n                  'ELEVATION': 'first'\n              })\n              .reset_index()\n          )\n          \n          # Add calculated features\n          monthly_data['COAST_DISTANCE'] = coast_distance\n          monthly_data['MONTH_SIN'] = np.sin(2 * np.pi * monthly_data['MONTH'] / 12)\n          monthly_data['MONTH_COS'] = np.cos(2 * np.pi * monthly_data['MONTH'] / 12)\n          \n          # Prepare features (X) and target (y)\n          feature_columns = ['MONTH', 'LATITUDE', 'LONGITUDE', 'ELEVATION', 'COAST_DISTANCE', 'MONTH_SIN', 'MONTH_COS']\n          X = monthly_data[feature_columns].values\n          y = monthly_data['TEMPERATURE'].values\n          \n          print(f\"Training features: {feature_columns}\")\n          print(f\"No. of training samples: {len(X)}\")\n          \n          # Train the model\n          model = LinearRegression()\n          model.fit(X, y)\n          \n          # Store model and metadata\n          models[zip_code] = {\n              'model': model,\n              'features': feature_columns,\n              'latitude': lat,\n              'longitude': lon,\n              'elevation': elev,\n              'coast_distance': coast_distance,\n              'training_samples': len(X)\n          }\n          \n          # Store sample data for testing\n          zip_data[zip_code] = monthly_data\n          \n      else:\n          print(f\"No valid data found for {zip_code}\")\n  else:\n      print(f\"No data found for {zip_code}\")\n\nprint(f\"Successfully trained model for {len(models)} zip code\")",
   "execution_count": null
  },
  {
   "cell_type": "code",
   "id": "798f0654-e347-4e73-97d8-c4dd88726505",
   "metadata": {
    "language": "python",
    "name": "create_deploy_udf"
   },
   "outputs": [],
   "source": "def predict_temperature(zip_code: str, month: int) -> float:\n    # Get the trained model and geographic data\n    model_info = models[zip_code]\n    model = model_info['model']\n    \n    # Create features\n    features = [\n        month,\n        model_info['latitude'],\n        model_info['longitude'], \n        model_info['elevation'],\n        model_info['coast_distance'],\n        np.sin(2 * np.pi * month / 12),  # MONTH_SIN\n        np.cos(2 * np.pi * month / 12)   # MONTH_COS\n    ]\n    \n    # Use the trained model\n    prediction = model.predict([features])[0]\n    return round(prediction, 1)\n\n# Register the UDF\nprint(\"Creating UDF...\")\npredict_temp_udf = session.udf.register(\n   predict_temperature,\n   return_type=FloatType(),\n   input_types=[StringType(), IntegerType()],\n   packages=[\"pandas\", \"scikit-learn\", \"numpy\"],\n   is_permanent=True,\n   name=\"predict_temperature_udf\",\n   replace=True,\n   stage_location=\"@weather_schema.udf_stage\"\n)\n\nprint(\"UDF registered successfully\")\n\n# Test the UDF \nprint(\"Testing predictions:\")\ntest_cases = [\n   ('86005', 7), # Flagstaff in July\n   ('86005', 1)  # Flagstaff in Jan\n]\n\nmonth_names = ['', 'Jan', 'Feb', 'Mar', 'Apr', 'May', 'Jun', \n              'Jul', 'Aug', 'Sep', 'Oct', 'Nov', 'Dec']\n\nprint(f\"{'Zip Code':<8} {'Month':<12} {'Prediction':<12} {'Location'}\")\nprint(\"-\" * 50)\n\nfor zip_code, month in test_cases:\n   result = session.sql(f\"SELECT predict_temperature_udf('{zip_code}', {month}) as temp\").collect()\n   temp = result[0]['TEMP']\n   location = target_zips.get(zip_code, 'Unknown')\n   print(f\"{zip_code:<8} {month_names[month]:<12} {temp:.1f}°C        {location}\")\n\nprint(\"Weather prediction model is ready!\")",
   "execution_count": null
  }
 ]
}